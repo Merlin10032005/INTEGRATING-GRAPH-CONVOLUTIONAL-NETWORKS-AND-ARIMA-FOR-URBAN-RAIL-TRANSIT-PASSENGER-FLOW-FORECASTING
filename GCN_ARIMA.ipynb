{
  "nbformat": 4,
  "nbformat_minor": 0,
  "metadata": {
    "colab": {
      "provenance": [],
      "gpuType": "T4"
    },
    "kernelspec": {
      "name": "python3",
      "display_name": "Python 3"
    },
    "language_info": {
      "name": "python"
    },
    "accelerator": "GPU"
  },
  "cells": [
    {
      "cell_type": "code",
      "execution_count": null,
      "metadata": {
        "colab": {
          "base_uri": "https://localhost:8080/",
          "height": 498
        },
        "id": "ZfLIRKdrLdZz",
        "outputId": "cdce01da-faeb-40c2-d509-7a8e88069334"
      },
      "outputs": [
        {
          "output_type": "display_data",
          "data": {
            "text/plain": [
              "<IPython.core.display.HTML object>"
            ],
            "text/html": [
              "\n",
              "     <input type=\"file\" id=\"files-c526a123-d156-4ac9-a16c-8dfda6ed4ecf\" name=\"files[]\" multiple disabled\n",
              "        style=\"border:none\" />\n",
              "     <output id=\"result-c526a123-d156-4ac9-a16c-8dfda6ed4ecf\">\n",
              "      Upload widget is only available when the cell has been executed in the\n",
              "      current browser session. Please rerun this cell to enable.\n",
              "      </output>\n",
              "      <script>// Copyright 2017 Google LLC\n",
              "//\n",
              "// Licensed under the Apache License, Version 2.0 (the \"License\");\n",
              "// you may not use this file except in compliance with the License.\n",
              "// You may obtain a copy of the License at\n",
              "//\n",
              "//      http://www.apache.org/licenses/LICENSE-2.0\n",
              "//\n",
              "// Unless required by applicable law or agreed to in writing, software\n",
              "// distributed under the License is distributed on an \"AS IS\" BASIS,\n",
              "// WITHOUT WARRANTIES OR CONDITIONS OF ANY KIND, either express or implied.\n",
              "// See the License for the specific language governing permissions and\n",
              "// limitations under the License.\n",
              "\n",
              "/**\n",
              " * @fileoverview Helpers for google.colab Python module.\n",
              " */\n",
              "(function(scope) {\n",
              "function span(text, styleAttributes = {}) {\n",
              "  const element = document.createElement('span');\n",
              "  element.textContent = text;\n",
              "  for (const key of Object.keys(styleAttributes)) {\n",
              "    element.style[key] = styleAttributes[key];\n",
              "  }\n",
              "  return element;\n",
              "}\n",
              "\n",
              "// Max number of bytes which will be uploaded at a time.\n",
              "const MAX_PAYLOAD_SIZE = 100 * 1024;\n",
              "\n",
              "function _uploadFiles(inputId, outputId) {\n",
              "  const steps = uploadFilesStep(inputId, outputId);\n",
              "  const outputElement = document.getElementById(outputId);\n",
              "  // Cache steps on the outputElement to make it available for the next call\n",
              "  // to uploadFilesContinue from Python.\n",
              "  outputElement.steps = steps;\n",
              "\n",
              "  return _uploadFilesContinue(outputId);\n",
              "}\n",
              "\n",
              "// This is roughly an async generator (not supported in the browser yet),\n",
              "// where there are multiple asynchronous steps and the Python side is going\n",
              "// to poll for completion of each step.\n",
              "// This uses a Promise to block the python side on completion of each step,\n",
              "// then passes the result of the previous step as the input to the next step.\n",
              "function _uploadFilesContinue(outputId) {\n",
              "  const outputElement = document.getElementById(outputId);\n",
              "  const steps = outputElement.steps;\n",
              "\n",
              "  const next = steps.next(outputElement.lastPromiseValue);\n",
              "  return Promise.resolve(next.value.promise).then((value) => {\n",
              "    // Cache the last promise value to make it available to the next\n",
              "    // step of the generator.\n",
              "    outputElement.lastPromiseValue = value;\n",
              "    return next.value.response;\n",
              "  });\n",
              "}\n",
              "\n",
              "/**\n",
              " * Generator function which is called between each async step of the upload\n",
              " * process.\n",
              " * @param {string} inputId Element ID of the input file picker element.\n",
              " * @param {string} outputId Element ID of the output display.\n",
              " * @return {!Iterable<!Object>} Iterable of next steps.\n",
              " */\n",
              "function* uploadFilesStep(inputId, outputId) {\n",
              "  const inputElement = document.getElementById(inputId);\n",
              "  inputElement.disabled = false;\n",
              "\n",
              "  const outputElement = document.getElementById(outputId);\n",
              "  outputElement.innerHTML = '';\n",
              "\n",
              "  const pickedPromise = new Promise((resolve) => {\n",
              "    inputElement.addEventListener('change', (e) => {\n",
              "      resolve(e.target.files);\n",
              "    });\n",
              "  });\n",
              "\n",
              "  const cancel = document.createElement('button');\n",
              "  inputElement.parentElement.appendChild(cancel);\n",
              "  cancel.textContent = 'Cancel upload';\n",
              "  const cancelPromise = new Promise((resolve) => {\n",
              "    cancel.onclick = () => {\n",
              "      resolve(null);\n",
              "    };\n",
              "  });\n",
              "\n",
              "  // Wait for the user to pick the files.\n",
              "  const files = yield {\n",
              "    promise: Promise.race([pickedPromise, cancelPromise]),\n",
              "    response: {\n",
              "      action: 'starting',\n",
              "    }\n",
              "  };\n",
              "\n",
              "  cancel.remove();\n",
              "\n",
              "  // Disable the input element since further picks are not allowed.\n",
              "  inputElement.disabled = true;\n",
              "\n",
              "  if (!files) {\n",
              "    return {\n",
              "      response: {\n",
              "        action: 'complete',\n",
              "      }\n",
              "    };\n",
              "  }\n",
              "\n",
              "  for (const file of files) {\n",
              "    const li = document.createElement('li');\n",
              "    li.append(span(file.name, {fontWeight: 'bold'}));\n",
              "    li.append(span(\n",
              "        `(${file.type || 'n/a'}) - ${file.size} bytes, ` +\n",
              "        `last modified: ${\n",
              "            file.lastModifiedDate ? file.lastModifiedDate.toLocaleDateString() :\n",
              "                                    'n/a'} - `));\n",
              "    const percent = span('0% done');\n",
              "    li.appendChild(percent);\n",
              "\n",
              "    outputElement.appendChild(li);\n",
              "\n",
              "    const fileDataPromise = new Promise((resolve) => {\n",
              "      const reader = new FileReader();\n",
              "      reader.onload = (e) => {\n",
              "        resolve(e.target.result);\n",
              "      };\n",
              "      reader.readAsArrayBuffer(file);\n",
              "    });\n",
              "    // Wait for the data to be ready.\n",
              "    let fileData = yield {\n",
              "      promise: fileDataPromise,\n",
              "      response: {\n",
              "        action: 'continue',\n",
              "      }\n",
              "    };\n",
              "\n",
              "    // Use a chunked sending to avoid message size limits. See b/62115660.\n",
              "    let position = 0;\n",
              "    do {\n",
              "      const length = Math.min(fileData.byteLength - position, MAX_PAYLOAD_SIZE);\n",
              "      const chunk = new Uint8Array(fileData, position, length);\n",
              "      position += length;\n",
              "\n",
              "      const base64 = btoa(String.fromCharCode.apply(null, chunk));\n",
              "      yield {\n",
              "        response: {\n",
              "          action: 'append',\n",
              "          file: file.name,\n",
              "          data: base64,\n",
              "        },\n",
              "      };\n",
              "\n",
              "      let percentDone = fileData.byteLength === 0 ?\n",
              "          100 :\n",
              "          Math.round((position / fileData.byteLength) * 100);\n",
              "      percent.textContent = `${percentDone}% done`;\n",
              "\n",
              "    } while (position < fileData.byteLength);\n",
              "  }\n",
              "\n",
              "  // All done.\n",
              "  yield {\n",
              "    response: {\n",
              "      action: 'complete',\n",
              "    }\n",
              "  };\n",
              "}\n",
              "\n",
              "scope.google = scope.google || {};\n",
              "scope.google.colab = scope.google.colab || {};\n",
              "scope.google.colab._files = {\n",
              "  _uploadFiles,\n",
              "  _uploadFilesContinue,\n",
              "};\n",
              "})(self);\n",
              "</script> "
            ]
          },
          "metadata": {}
        },
        {
          "output_type": "stream",
          "name": "stdout",
          "text": [
            "Saving out_30min.csv to out_30min (1).csv\n",
            "Saving out_15min.csv to out_15min (1).csv\n",
            "Saving out_10min.csv to out_10min (1).csv\n",
            "Saving metrics.py to metrics (1).py\n",
            "Saving load_data.py to load_data (1).py\n",
            "Saving in_30min.csv to in_30min (1).csv\n",
            "Saving in_15min.csv to in_15min (1).csv\n",
            "Saving in_10min.csv to in_10min (1).csv\n",
            "Saving gcnLayer.py to gcnLayer (1).py\n",
            "Saving adjacency.csv to adjacency (1).csv\n",
            "Saving 30 min after normolization.csv to 30 min after normolization (1).csv\n",
            "Saving 15 min after normolization.csv to 15 min after normolization (1).csv\n",
            "Saving 10 min after normolization.csv to 10 min after normolization (1).csv\n"
          ]
        }
      ],
      "source": [
        "from google.colab import files\n",
        "\n",
        "# Upload the files\n",
        "uploaded = files.upload()"
      ]
    },
    {
      "cell_type": "code",
      "source": [
        "import os\n",
        "\n",
        "# List files in the current directory\n",
        "print(os.listdir())"
      ],
      "metadata": {
        "colab": {
          "base_uri": "https://localhost:8080/"
        },
        "id": "qIDHYn5VLgTo",
        "outputId": "813c02fa-ef57-456e-c9fe-68d79842fbae"
      },
      "execution_count": null,
      "outputs": [
        {
          "output_type": "stream",
          "name": "stdout",
          "text": [
            "['.config', '10 min after normolization (1).csv', 'out_10min (1).csv', 'metrics.py', 'gcnLayer.py', 'out_10min.csv', '15 min after normolization (1).csv', 'out_30min (1).csv', 'adjacency.csv', 'in_30min.csv', '__pycache__', '30 min after normolization.csv', '30 min after normolization (1).csv', 'metrics (1).py', 'gcnLayer (1).py', 'load_data (1).py', 'in_10min.csv', 'out_15min.csv', 'in_15min.csv', '10 min after normolization.csv', '15 min after normolization.csv', 'load_data.py', 'in_15min (1).csv', 'adjacency (1).csv', 'out_15min (1).csv', 'in_10min (1).csv', 'out_30min.csv', 'in_30min (1).csv', 'sample_data']\n"
          ]
        }
      ]
    },
    {
      "cell_type": "markdown",
      "source": [
        "**10 MINTS**"
      ],
      "metadata": {
        "id": "74EKV38C0TJ3"
      }
    },
    {
      "cell_type": "code",
      "source": [
        "import numpy as np\n",
        "import csv\n",
        "import matplotlib.pyplot as plt\n",
        "from load_data import Get_All_Data\n",
        "from gcnLayer import GraphConvolution1\n",
        "from metrics import evaluate_performance\n",
        "from keras.layers import Input, Reshape, Conv3D, Dense, Flatten\n",
        "from keras.models import Model\n",
        "from keras.optimizers import Adam\n",
        "from keras.regularizers import l2\n",
        "import time\n",
        "import keras\n",
        "import statsmodels.api as sm\n",
        "from sklearn.metrics import mean_squared_error\n",
        "\n",
        "# Function to load data and adjacency matrix\n",
        "def load_data():\n",
        "    X_train_1, Y_train, X_test_1, Y_test, Y_test_original, a, b, X_train_2, X_test_2, X_train_3, X_test_3, X_train_4, X_test_4 = \\\n",
        "        Get_All_Data(TG=10, time_lag=11, TG_in_one_day=36, forecast_day_number=5, TG_in_one_week=180)\n",
        "\n",
        "    adjacency = []\n",
        "    with open('adjacency.csv') as f:\n",
        "        data = csv.reader(f, delimiter=\",\")\n",
        "        for line in data:\n",
        "            line = [float(x) for x in line]\n",
        "            adjacency.append(line)\n",
        "    adjacency = np.array(adjacency, dtype=np.float32)\n",
        "\n",
        "    return X_train_1, Y_train, X_test_1, Y_test, Y_test_original, a, b, X_train_2, X_test_2, adjacency\n",
        "\n",
        "# Load the data\n",
        "X_train_1, Y_train, X_test_1, Y_test, Y_test_original, a, b, X_train_2, X_test_2, adjacency = load_data()\n"
      ],
      "metadata": {
        "colab": {
          "base_uri": "https://localhost:8080/"
        },
        "id": "cGmGZXwyLgao",
        "outputId": "44ef85e7-b9a9-4ae5-f7cf-554c3d256565"
      },
      "execution_count": null,
      "outputs": [
        {
          "output_type": "stream",
          "name": "stdout",
          "text": [
            "(2330, 276, 30) (2330, 276)\n",
            "(170, 276, 30) (170, 276)\n",
            "(170, 276)\n",
            "3188 0\n",
            "(2330, 276, 30)\n",
            "(170, 276, 30)\n",
            "(276, 276)\n",
            "(2330, 276, 10)\n",
            "(170, 276, 10)\n",
            "(2330, 11, 10)\n",
            "(170, 11, 10)\n"
          ]
        }
      ]
    },
    {
      "cell_type": "code",
      "source": [
        "# Define GCN model\n",
        "def create_gcn_model(adjacency):\n",
        "    input1 = Input(shape=(X_train_1.shape[1], X_train_1.shape[2]))\n",
        "    out1 = GraphConvolution1(15, adj=adjacency, activation='relu', kernel_regularizer=l2(5e-4))(input1)\n",
        "    out1 = Reshape((276, 5, 3, 1), input_shape=(276, 15))(out1)\n",
        "\n",
        "    input2 = Input(shape=(X_train_2.shape[1], X_train_2.shape[2]), name='input2')\n",
        "    out2 = GraphConvolution1(15, adj=adjacency, activation='relu', kernel_regularizer=l2(5e-4))(input2)\n",
        "    out2 = Reshape((276, 5, 3, 1), input_shape=(276, 15))(out2)\n",
        "\n",
        "    out = keras.layers.concatenate([out1, out2], axis=4)\n",
        "    out = Conv3D(16, kernel_size=3, padding='same', activation='relu')(out)\n",
        "    out = Flatten()(out)\n",
        "    out = Dense(276)(out)\n",
        "\n",
        "    model = Model(inputs=[input1, input2], outputs=[out])\n",
        "    model.compile(loss='mse', optimizer=Adam(lr=0.001))\n",
        "\n",
        "    return model\n",
        "\n",
        "# Create and train GCN model\n",
        "gcn_model = create_gcn_model(adjacency)\n",
        "gcn_model.fit([X_train_1, X_train_2], Y_train, batch_size=64, epochs=80, verbose=1)\n"
      ],
      "metadata": {
        "colab": {
          "base_uri": "https://localhost:8080/"
        },
        "id": "Ghh1taB-LrCp",
        "outputId": "418a0855-e69f-4e6e-d537-ddf0ddcbf104"
      },
      "execution_count": null,
      "outputs": [
        {
          "output_type": "stream",
          "name": "stderr",
          "text": [
            "WARNING:absl:`lr` is deprecated in Keras optimizer, please use `learning_rate` or use the legacy optimizer, e.g.,tf.keras.optimizers.legacy.Adam.\n"
          ]
        },
        {
          "output_type": "stream",
          "name": "stdout",
          "text": [
            "Epoch 1/80\n",
            "37/37 [==============================] - 2s 17ms/step - loss: 0.0758\n",
            "Epoch 2/80\n",
            "37/37 [==============================] - 1s 15ms/step - loss: 0.0188\n",
            "Epoch 3/80\n",
            "37/37 [==============================] - 1s 15ms/step - loss: 0.0162\n",
            "Epoch 4/80\n",
            "37/37 [==============================] - 0s 13ms/step - loss: 0.0145\n",
            "Epoch 5/80\n",
            "37/37 [==============================] - 1s 17ms/step - loss: 0.0131\n",
            "Epoch 6/80\n",
            "37/37 [==============================] - 1s 19ms/step - loss: 0.0120\n",
            "Epoch 7/80\n",
            "37/37 [==============================] - 1s 15ms/step - loss: 0.0110\n",
            "Epoch 8/80\n",
            "37/37 [==============================] - 1s 16ms/step - loss: 0.0102\n",
            "Epoch 9/80\n",
            "37/37 [==============================] - 1s 16ms/step - loss: 0.0095\n",
            "Epoch 10/80\n",
            "37/37 [==============================] - 1s 21ms/step - loss: 0.0089\n",
            "Epoch 11/80\n",
            "37/37 [==============================] - 0s 12ms/step - loss: 0.0083\n",
            "Epoch 12/80\n",
            "37/37 [==============================] - 0s 12ms/step - loss: 0.0078\n",
            "Epoch 13/80\n",
            "37/37 [==============================] - 0s 13ms/step - loss: 0.0073\n",
            "Epoch 14/80\n",
            "37/37 [==============================] - 0s 12ms/step - loss: 0.0069\n",
            "Epoch 15/80\n",
            "37/37 [==============================] - 0s 12ms/step - loss: 0.0065\n",
            "Epoch 16/80\n",
            "37/37 [==============================] - 0s 13ms/step - loss: 0.0062\n",
            "Epoch 17/80\n",
            "37/37 [==============================] - 0s 13ms/step - loss: 0.0058\n",
            "Epoch 18/80\n",
            "37/37 [==============================] - 0s 13ms/step - loss: 0.0055\n",
            "Epoch 19/80\n",
            "37/37 [==============================] - 0s 13ms/step - loss: 0.0053\n",
            "Epoch 20/80\n",
            "37/37 [==============================] - 0s 13ms/step - loss: 0.0050\n",
            "Epoch 21/80\n",
            "37/37 [==============================] - 0s 13ms/step - loss: 0.0047\n",
            "Epoch 22/80\n",
            "37/37 [==============================] - 1s 14ms/step - loss: 0.0045\n",
            "Epoch 23/80\n",
            "37/37 [==============================] - 1s 14ms/step - loss: 0.0043\n",
            "Epoch 24/80\n",
            "37/37 [==============================] - 1s 15ms/step - loss: 0.0041\n",
            "Epoch 25/80\n",
            "37/37 [==============================] - 1s 16ms/step - loss: 0.0039\n",
            "Epoch 26/80\n",
            "37/37 [==============================] - 1s 15ms/step - loss: 0.0038\n",
            "Epoch 27/80\n",
            "37/37 [==============================] - 1s 16ms/step - loss: 0.0036\n",
            "Epoch 28/80\n",
            "37/37 [==============================] - 0s 13ms/step - loss: 0.0034\n",
            "Epoch 29/80\n",
            "37/37 [==============================] - 0s 13ms/step - loss: 0.0033\n",
            "Epoch 30/80\n",
            "37/37 [==============================] - 0s 13ms/step - loss: 0.0031\n",
            "Epoch 31/80\n",
            "37/37 [==============================] - 0s 13ms/step - loss: 0.0030\n",
            "Epoch 32/80\n",
            "37/37 [==============================] - 0s 13ms/step - loss: 0.0029\n",
            "Epoch 33/80\n",
            "37/37 [==============================] - 0s 13ms/step - loss: 0.0028\n",
            "Epoch 34/80\n",
            "37/37 [==============================] - 0s 13ms/step - loss: 0.0027\n",
            "Epoch 35/80\n",
            "37/37 [==============================] - 0s 13ms/step - loss: 0.0025\n",
            "Epoch 36/80\n",
            "37/37 [==============================] - 0s 13ms/step - loss: 0.0025\n",
            "Epoch 37/80\n",
            "37/37 [==============================] - 0s 13ms/step - loss: 0.0024\n",
            "Epoch 38/80\n",
            "37/37 [==============================] - 0s 13ms/step - loss: 0.0023\n",
            "Epoch 39/80\n",
            "37/37 [==============================] - 0s 13ms/step - loss: 0.0022\n",
            "Epoch 40/80\n",
            "37/37 [==============================] - 0s 13ms/step - loss: 0.0021\n",
            "Epoch 41/80\n",
            "37/37 [==============================] - 0s 13ms/step - loss: 0.0020\n",
            "Epoch 42/80\n",
            "37/37 [==============================] - 0s 13ms/step - loss: 0.0019\n",
            "Epoch 43/80\n",
            "37/37 [==============================] - 0s 13ms/step - loss: 0.0019\n",
            "Epoch 44/80\n",
            "37/37 [==============================] - 0s 13ms/step - loss: 0.0018\n",
            "Epoch 45/80\n",
            "37/37 [==============================] - 0s 13ms/step - loss: 0.0017\n",
            "Epoch 46/80\n",
            "37/37 [==============================] - 0s 13ms/step - loss: 0.0016\n",
            "Epoch 47/80\n",
            "37/37 [==============================] - 0s 13ms/step - loss: 0.0016\n",
            "Epoch 48/80\n",
            "37/37 [==============================] - 0s 13ms/step - loss: 0.0015\n",
            "Epoch 49/80\n",
            "37/37 [==============================] - 1s 15ms/step - loss: 0.0015\n",
            "Epoch 50/80\n",
            "37/37 [==============================] - 1s 15ms/step - loss: 0.0014\n",
            "Epoch 51/80\n",
            "37/37 [==============================] - 1s 15ms/step - loss: 0.0014\n",
            "Epoch 52/80\n",
            "37/37 [==============================] - 1s 15ms/step - loss: 0.0013\n",
            "Epoch 53/80\n",
            "37/37 [==============================] - 1s 15ms/step - loss: 0.0013\n",
            "Epoch 54/80\n",
            "37/37 [==============================] - 0s 13ms/step - loss: 0.0012\n",
            "Epoch 55/80\n",
            "37/37 [==============================] - 0s 13ms/step - loss: 0.0012\n",
            "Epoch 56/80\n",
            "37/37 [==============================] - 0s 13ms/step - loss: 0.0011\n",
            "Epoch 57/80\n",
            "37/37 [==============================] - 0s 13ms/step - loss: 0.0011\n",
            "Epoch 58/80\n",
            "37/37 [==============================] - 0s 13ms/step - loss: 0.0010\n",
            "Epoch 59/80\n",
            "37/37 [==============================] - 0s 13ms/step - loss: 0.0010\n",
            "Epoch 60/80\n",
            "37/37 [==============================] - 0s 13ms/step - loss: 9.6338e-04\n",
            "Epoch 61/80\n",
            "37/37 [==============================] - 0s 13ms/step - loss: 9.2597e-04\n",
            "Epoch 62/80\n",
            "37/37 [==============================] - 0s 13ms/step - loss: 8.9195e-04\n",
            "Epoch 63/80\n",
            "37/37 [==============================] - 0s 13ms/step - loss: 8.5885e-04\n",
            "Epoch 64/80\n",
            "37/37 [==============================] - 0s 13ms/step - loss: 8.2731e-04\n",
            "Epoch 65/80\n",
            "37/37 [==============================] - 0s 13ms/step - loss: 7.9442e-04\n",
            "Epoch 66/80\n",
            "37/37 [==============================] - 0s 13ms/step - loss: 7.6640e-04\n",
            "Epoch 67/80\n",
            "37/37 [==============================] - 0s 12ms/step - loss: 7.3922e-04\n",
            "Epoch 68/80\n",
            "37/37 [==============================] - 0s 13ms/step - loss: 7.1396e-04\n",
            "Epoch 69/80\n",
            "37/37 [==============================] - 0s 13ms/step - loss: 6.8544e-04\n",
            "Epoch 70/80\n",
            "37/37 [==============================] - 0s 13ms/step - loss: 6.5759e-04\n",
            "Epoch 71/80\n",
            "37/37 [==============================] - 0s 13ms/step - loss: 6.3363e-04\n",
            "Epoch 72/80\n",
            "37/37 [==============================] - 0s 13ms/step - loss: 6.1304e-04\n",
            "Epoch 73/80\n",
            "37/37 [==============================] - 0s 13ms/step - loss: 5.8708e-04\n",
            "Epoch 74/80\n",
            "37/37 [==============================] - 1s 14ms/step - loss: 5.6530e-04\n",
            "Epoch 75/80\n",
            "37/37 [==============================] - 1s 15ms/step - loss: 5.4170e-04\n",
            "Epoch 76/80\n",
            "37/37 [==============================] - 1s 14ms/step - loss: 5.2193e-04\n",
            "Epoch 77/80\n",
            "37/37 [==============================] - 1s 15ms/step - loss: 5.0537e-04\n",
            "Epoch 78/80\n",
            "37/37 [==============================] - 1s 15ms/step - loss: 4.8984e-04\n",
            "Epoch 79/80\n",
            "37/37 [==============================] - 1s 15ms/step - loss: 4.6453e-04\n",
            "Epoch 80/80\n",
            "37/37 [==============================] - 0s 13ms/step - loss: 4.4644e-04\n"
          ]
        },
        {
          "output_type": "execute_result",
          "data": {
            "text/plain": [
              "<keras.src.callbacks.History at 0x7b53ae907eb0>"
            ]
          },
          "metadata": {},
          "execution_count": 23
        }
      ]
    },
    {
      "cell_type": "code",
      "source": [
        "from statsmodels.tsa.stattools import adfuller\n",
        "# Get GCN predictions and calculate residuals\n",
        "gcn_predictions = gcn_model.predict([X_test_1, X_test_2], verbose=1)\n",
        "gcn_predictions = gcn_predictions.reshape(-1, 276)\n",
        "gcn_predictions = gcn_predictions * a\n",
        "\n",
        "residuals = Y_test_original - gcn_predictions\n",
        "rmse = np.sqrt(mean_squared_error(Y_test_original, gcn_predictions))\n",
        "print(\" Model RMSE:\", rmse)\n",
        "# Perform ADF test on residuals\n",
        "def adf_test(residuals):\n",
        "    result = adfuller(residuals.flatten())\n",
        "    print('ADF Statistic: %f' % result[0])\n",
        "    print('p-value: %f' % result[1])\n",
        "    print('Critical Values:')\n",
        "    for key, value in result[4].items():\n",
        "        print('\\t%s: %.3f' % (key, value))\n",
        "\n",
        "    if result[1] <= 0.05:\n",
        "        print(\"Reject Null Hypothesis (H0): Time series is stationary\")\n",
        "    else:\n",
        "        print(\"Fail to Reject Null Hypothesis (H0): Time series is non-stationary\")\n",
        "\n",
        "# Perform ADF test on residuals\n",
        "print(\"Performing ADF test on residuals:\")\n",
        "adf_test(residuals)\n",
        "import statsmodels.api as sm\n",
        "import matplotlib.pyplot as plt\n",
        "\n",
        "# Compute ACF and PACF\n",
        "acf = sm.graphics.tsa.plot_acf(residuals.flatten(), lags=40, alpha=0.05)\n",
        "pacf = sm.graphics.tsa.plot_pacf(residuals.flatten(), lags=40, alpha=0.05)\n",
        "\n",
        "# Display plots\n",
        "plt.show()\n"
      ],
      "metadata": {
        "colab": {
          "base_uri": "https://localhost:8080/",
          "height": 1000
        },
        "id": "d95hw8HM22MQ",
        "outputId": "9f1dc749-17e4-4bb3-a9ce-c888052d6d3d"
      },
      "execution_count": null,
      "outputs": [
        {
          "output_type": "stream",
          "name": "stdout",
          "text": [
            "6/6 [==============================] - 0s 3ms/step\n",
            " Model RMSE: 31.21235863954444\n",
            "Performing ADF test on residuals:\n",
            "ADF Statistic: -17.102912\n",
            "p-value: 0.000000\n",
            "Critical Values:\n",
            "\t1%: -3.430\n",
            "\t5%: -2.862\n",
            "\t10%: -2.567\n",
            "Reject Null Hypothesis (H0): Time series is stationary\n"
          ]
        },
        {
          "output_type": "display_data",
          "data": {
            "text/plain": [
              "<Figure size 640x480 with 1 Axes>"
            ],
            "image/png": "[encoded data removed]"
          },
          "metadata": {}
        },
        {
          "output_type": "display_data",
          "data": {
            "text/plain": [
              "<Figure size 640x480 with 1 Axes>"
            ],
            "image/png": "[encoded data removed]"
          },
          "metadata": {}
        }
      ]
    },
    {
      "cell_type": "code",
      "source": [
        "# Train ARIMA model on residuals\n",
        "def train_arima(residuals):\n",
        "    arima_model = sm.tsa.ARIMA(residuals.flatten(), order=(1, 0, 1))  # Adjust the order as needed\n",
        "    arima_result = arima_model.fit()\n",
        "    return arima_result\n",
        "\n",
        "arima_result = train_arima(residuals)"
      ],
      "metadata": {
        "id": "FE1LZojmLrVh"
      },
      "execution_count": null,
      "outputs": []
    },
    {
      "cell_type": "code",
      "source": [
        "# Make ARIMA predictions\n",
        "arima_predictions = arima_result.predict(start=0, end=len(residuals.flatten())-1)\n",
        "arima_predictions = arima_predictions.reshape(residuals.shape)\n",
        "\n",
        "# Combine GCN and ARIMA predictions\n",
        "final_predictions = gcn_predictions + arima_predictions\n",
        "\n",
        "# Evaluate the combined model\n",
        "evaluate_performance(Y_test_original,final_predictions)\n"
      ],
      "metadata": {
        "colab": {
          "base_uri": "https://localhost:8080/"
        },
        "id": "kkHT2vCxLwpy",
        "outputId": "3b10c3f1-4a24-4f4c-dfd7-9a7b55d11b49"
      },
      "execution_count": null,
      "outputs": [
        {
          "output_type": "stream",
          "name": "stdout",
          "text": [
            "RMSE is: 30.168165245674064\n",
            "R2 is：0.9299174640045642\n",
            "MAE is：18.085411317411207\n",
            "WMAPE is0.10292125831041737\n"
          ]
        },
        {
          "output_type": "execute_result",
          "data": {
            "text/plain": [
              "(30.168165245674064,\n",
              " 0.9299174640045642,\n",
              " 18.085411317411207,\n",
              " 0.10292125831041737)"
            ]
          },
          "metadata": {},
          "execution_count": 27
        }
      ]
    },
    {
      "cell_type": "code",
      "source": [
        "# Plot RMSE over epochs for GCN training\n",
        "rmse_gcn = np.sqrt(mean_squared_error(Y_test_original, gcn_predictions))\n",
        "\n",
        "\n",
        "# Plot the final combined predictions\n",
        "plt.plot(Y_test_original.flatten(), label='Actual')\n",
        "plt.plot(final_predictions.flatten(), label='Predicted')\n",
        "plt.xlabel('Time')\n",
        "plt.ylabel('Value')\n",
        "plt.title('Actual vs Predicted')\n",
        "plt.legend()\n",
        "plt.show()\n"
      ],
      "metadata": {
        "colab": {
          "base_uri": "https://localhost:8080/",
          "height": 472
        },
        "id": "m1kvvaEoLzDv",
        "outputId": "e7b9bf07-ac79-4cba-e53e-665832f21e66"
      },
      "execution_count": null,
      "outputs": [
        {
          "output_type": "display_data",
          "data": {
            "text/plain": [
              "<Figure size 640x480 with 1 Axes>"
            ],
            "image/png": "[encoded data removed]"
          },
          "metadata": {}
        }
      ]
    },
    {
      "cell_type": "markdown",
      "source": [
        "**15 MINTS**"
      ],
      "metadata": {
        "id": "nYVyvYTm0aX6"
      }
    },
    {
      "cell_type": "code",
      "source": [
        "import numpy as np\n",
        "import csv\n",
        "import matplotlib.pyplot as plt\n",
        "from load_data import Get_All_Data\n",
        "from gcnLayer import GraphConvolution1\n",
        "from metrics import evaluate_performance\n",
        "from keras.layers import Input, Reshape, Conv3D, Dense, Flatten\n",
        "from keras.models import Model\n",
        "from keras.optimizers import Adam\n",
        "from keras.regularizers import l2\n",
        "import time\n",
        "import keras\n",
        "import statsmodels.api as sm\n",
        "from sklearn.metrics import mean_squared_error\n",
        "\n",
        "# Function to load data and adjacency matrix\n",
        "def load_data():\n",
        "    X_train_1, Y_train, X_test_1, Y_test, Y_test_original, a, b, X_train_2, X_test_2, X_train_3, X_test_3, X_train_4, X_test_4 = \\\n",
        "        Get_All_Data(TG=15, time_lag=11, TG_in_one_day=36, forecast_day_number=5, TG_in_one_week=180)\n",
        "\n",
        "    adjacency = []\n",
        "    with open('adjacency.csv') as f:\n",
        "        data = csv.reader(f, delimiter=\",\")\n",
        "        for line in data:\n",
        "            line = [float(x) for x in line]\n",
        "            adjacency.append(line)\n",
        "    adjacency = np.array(adjacency, dtype=np.float32)\n",
        "\n",
        "    return X_train_1, Y_train, X_test_1, Y_test, Y_test_original, a, b, X_train_2, X_test_2, adjacency\n",
        "\n",
        "# Load the data\n",
        "X_train_1, Y_train, X_test_1, Y_test, Y_test_original, a, b, X_train_2, X_test_2, adjacency = load_data()\n"
      ],
      "metadata": {
        "colab": {
          "base_uri": "https://localhost:8080/"
        },
        "id": "-gm9knU_ucXd",
        "outputId": "5169d073-3076-4b95-bbbc-9ef64298ddce"
      },
      "execution_count": null,
      "outputs": [
        {
          "output_type": "stream",
          "name": "stdout",
          "text": [
            "(1430, 276, 30) (1430, 276)\n",
            "(170, 276, 30) (170, 276)\n",
            "(170, 276)\n",
            "4744 0\n",
            "(1430, 276, 30)\n",
            "(170, 276, 30)\n",
            "(276, 276)\n",
            "(1430, 276, 10)\n",
            "(170, 276, 10)\n",
            "(1430, 11, 10)\n",
            "(170, 11, 10)\n"
          ]
        }
      ]
    },
    {
      "cell_type": "code",
      "source": [
        "# Define GCN model\n",
        "def create_gcn_model(adjacency):\n",
        "    input1 = Input(shape=(X_train_1.shape[1], X_train_1.shape[2]))\n",
        "    out1 = GraphConvolution1(15, adj=adjacency, activation='relu', kernel_regularizer=l2(5e-4))(input1)\n",
        "    out1 = Reshape((276, 5, 3, 1), input_shape=(276, 15))(out1)\n",
        "\n",
        "    input2 = Input(shape=(X_train_2.shape[1], X_train_2.shape[2]), name='input2')\n",
        "    out2 = GraphConvolution1(15, adj=adjacency, activation='relu', kernel_regularizer=l2(5e-4))(input2)\n",
        "    out2 = Reshape((276, 5, 3, 1), input_shape=(276, 15))(out2)\n",
        "\n",
        "    out = keras.layers.concatenate([out1, out2], axis=4)\n",
        "    out = Conv3D(16, kernel_size=3, padding='same', activation='relu')(out)\n",
        "    out = Flatten()(out)\n",
        "    out = Dense(276)(out)\n",
        "\n",
        "    model = Model(inputs=[input1, input2], outputs=[out])\n",
        "    model.compile(loss='mse', optimizer=Adam(lr=0.001))\n",
        "\n",
        "    return model\n",
        "\n",
        "# Create and train GCN model\n",
        "gcn_model = create_gcn_model(adjacency)\n",
        "gcn_model.fit([X_train_1, X_train_2], Y_train, batch_size=64, epochs=80, verbose=1)\n"
      ],
      "metadata": {
        "colab": {
          "base_uri": "https://localhost:8080/"
        },
        "id": "hn0_Hnsiumjf",
        "outputId": "8d3172c3-1558-40b5-e654-a7a441e4d0bf"
      },
      "execution_count": null,
      "outputs": [
        {
          "output_type": "stream",
          "name": "stderr",
          "text": [
            "WARNING:absl:`lr` is deprecated in Keras optimizer, please use `learning_rate` or use the legacy optimizer, e.g.,tf.keras.optimizers.legacy.Adam.\n"
          ]
        },
        {
          "output_type": "stream",
          "name": "stdout",
          "text": [
            "Epoch 1/80\n",
            "23/23 [==============================] - 2s 16ms/step - loss: 0.0888\n",
            "Epoch 2/80\n",
            "23/23 [==============================] - 0s 13ms/step - loss: 0.0244\n",
            "Epoch 3/80\n",
            "23/23 [==============================] - 0s 13ms/step - loss: 0.0203\n",
            "Epoch 4/80\n",
            "23/23 [==============================] - 0s 12ms/step - loss: 0.0188\n",
            "Epoch 5/80\n",
            "23/23 [==============================] - 0s 13ms/step - loss: 0.0177\n",
            "Epoch 6/80\n",
            "23/23 [==============================] - 0s 14ms/step - loss: 0.0167\n",
            "Epoch 7/80\n",
            "23/23 [==============================] - 0s 14ms/step - loss: 0.0159\n",
            "Epoch 8/80\n",
            "23/23 [==============================] - 0s 14ms/step - loss: 0.0151\n",
            "Epoch 9/80\n",
            "23/23 [==============================] - 0s 15ms/step - loss: 0.0144\n",
            "Epoch 10/80\n",
            "23/23 [==============================] - 0s 14ms/step - loss: 0.0138\n",
            "Epoch 11/80\n",
            "23/23 [==============================] - 0s 16ms/step - loss: 0.0132\n",
            "Epoch 12/80\n",
            "23/23 [==============================] - 0s 17ms/step - loss: 0.0127\n",
            "Epoch 13/80\n",
            "23/23 [==============================] - 0s 15ms/step - loss: 0.0121\n",
            "Epoch 14/80\n",
            "23/23 [==============================] - 0s 13ms/step - loss: 0.0116\n",
            "Epoch 15/80\n",
            "23/23 [==============================] - 0s 13ms/step - loss: 0.0112\n",
            "Epoch 16/80\n",
            "23/23 [==============================] - 0s 12ms/step - loss: 0.0108\n",
            "Epoch 17/80\n",
            "23/23 [==============================] - 0s 13ms/step - loss: 0.0103\n",
            "Epoch 18/80\n",
            "23/23 [==============================] - 0s 12ms/step - loss: 0.0100\n",
            "Epoch 19/80\n",
            "23/23 [==============================] - 0s 13ms/step - loss: 0.0096\n",
            "Epoch 20/80\n",
            "23/23 [==============================] - 0s 12ms/step - loss: 0.0092\n",
            "Epoch 21/80\n",
            "23/23 [==============================] - 0s 13ms/step - loss: 0.0089\n",
            "Epoch 22/80\n",
            "23/23 [==============================] - 0s 13ms/step - loss: 0.0086\n",
            "Epoch 23/80\n",
            "23/23 [==============================] - 0s 13ms/step - loss: 0.0083\n",
            "Epoch 24/80\n",
            "23/23 [==============================] - 0s 13ms/step - loss: 0.0080\n",
            "Epoch 25/80\n",
            "23/23 [==============================] - 0s 13ms/step - loss: 0.0077\n",
            "Epoch 26/80\n",
            "23/23 [==============================] - 0s 14ms/step - loss: 0.0074\n",
            "Epoch 27/80\n",
            "23/23 [==============================] - 0s 15ms/step - loss: 0.0072\n",
            "Epoch 28/80\n",
            "23/23 [==============================] - 0s 13ms/step - loss: 0.0069\n",
            "Epoch 29/80\n",
            "23/23 [==============================] - 0s 13ms/step - loss: 0.0067\n",
            "Epoch 30/80\n",
            "23/23 [==============================] - 0s 13ms/step - loss: 0.0064\n",
            "Epoch 31/80\n",
            "23/23 [==============================] - 0s 13ms/step - loss: 0.0062\n",
            "Epoch 32/80\n",
            "23/23 [==============================] - 0s 13ms/step - loss: 0.0060\n",
            "Epoch 33/80\n",
            "23/23 [==============================] - 0s 13ms/step - loss: 0.0058\n",
            "Epoch 34/80\n",
            "23/23 [==============================] - 0s 13ms/step - loss: 0.0056\n",
            "Epoch 35/80\n",
            "23/23 [==============================] - 0s 13ms/step - loss: 0.0054\n",
            "Epoch 36/80\n",
            "23/23 [==============================] - 0s 13ms/step - loss: 0.0052\n",
            "Epoch 37/80\n",
            "23/23 [==============================] - 0s 13ms/step - loss: 0.0050\n",
            "Epoch 38/80\n",
            "23/23 [==============================] - 0s 13ms/step - loss: 0.0049\n",
            "Epoch 39/80\n",
            "23/23 [==============================] - 0s 13ms/step - loss: 0.0047\n",
            "Epoch 40/80\n",
            "23/23 [==============================] - 0s 14ms/step - loss: 0.0045\n",
            "Epoch 41/80\n",
            "23/23 [==============================] - 0s 13ms/step - loss: 0.0044\n",
            "Epoch 42/80\n",
            "23/23 [==============================] - 0s 13ms/step - loss: 0.0042\n",
            "Epoch 43/80\n",
            "23/23 [==============================] - 0s 13ms/step - loss: 0.0041\n",
            "Epoch 44/80\n",
            "23/23 [==============================] - 0s 14ms/step - loss: 0.0039\n",
            "Epoch 45/80\n",
            "23/23 [==============================] - 0s 12ms/step - loss: 0.0038\n",
            "Epoch 46/80\n",
            "23/23 [==============================] - 0s 13ms/step - loss: 0.0036\n",
            "Epoch 47/80\n",
            "23/23 [==============================] - 0s 15ms/step - loss: 0.0035\n",
            "Epoch 48/80\n",
            "23/23 [==============================] - 0s 15ms/step - loss: 0.0034\n",
            "Epoch 49/80\n",
            "23/23 [==============================] - 0s 16ms/step - loss: 0.0033\n",
            "Epoch 50/80\n",
            "23/23 [==============================] - 0s 15ms/step - loss: 0.0031\n",
            "Epoch 51/80\n",
            "23/23 [==============================] - 0s 14ms/step - loss: 0.0030\n",
            "Epoch 52/80\n",
            "23/23 [==============================] - 0s 15ms/step - loss: 0.0029\n",
            "Epoch 53/80\n",
            "23/23 [==============================] - 0s 17ms/step - loss: 0.0028\n",
            "Epoch 54/80\n",
            "23/23 [==============================] - 0s 14ms/step - loss: 0.0027\n",
            "Epoch 55/80\n",
            "23/23 [==============================] - 0s 13ms/step - loss: 0.0026\n",
            "Epoch 56/80\n",
            "23/23 [==============================] - 0s 12ms/step - loss: 0.0025\n",
            "Epoch 57/80\n",
            "23/23 [==============================] - 0s 12ms/step - loss: 0.0024\n",
            "Epoch 58/80\n",
            "23/23 [==============================] - 0s 12ms/step - loss: 0.0023\n",
            "Epoch 59/80\n",
            "23/23 [==============================] - 0s 13ms/step - loss: 0.0022\n",
            "Epoch 60/80\n",
            "23/23 [==============================] - 0s 12ms/step - loss: 0.0022\n",
            "Epoch 61/80\n",
            "23/23 [==============================] - 0s 12ms/step - loss: 0.0021\n",
            "Epoch 62/80\n",
            "23/23 [==============================] - 0s 13ms/step - loss: 0.0020\n",
            "Epoch 63/80\n",
            "23/23 [==============================] - 0s 13ms/step - loss: 0.0019\n",
            "Epoch 64/80\n",
            "23/23 [==============================] - 0s 12ms/step - loss: 0.0018\n",
            "Epoch 65/80\n",
            "23/23 [==============================] - 0s 13ms/step - loss: 0.0018\n",
            "Epoch 66/80\n",
            "23/23 [==============================] - 0s 13ms/step - loss: 0.0017\n",
            "Epoch 67/80\n",
            "23/23 [==============================] - 0s 13ms/step - loss: 0.0016\n",
            "Epoch 68/80\n",
            "23/23 [==============================] - 0s 13ms/step - loss: 0.0016\n",
            "Epoch 69/80\n",
            "23/23 [==============================] - 0s 13ms/step - loss: 0.0015\n",
            "Epoch 70/80\n",
            "23/23 [==============================] - 0s 14ms/step - loss: 0.0015\n",
            "Epoch 71/80\n",
            "23/23 [==============================] - 0s 12ms/step - loss: 0.0014\n",
            "Epoch 72/80\n",
            "23/23 [==============================] - 0s 13ms/step - loss: 0.0013\n",
            "Epoch 73/80\n",
            "23/23 [==============================] - 0s 13ms/step - loss: 0.0013\n",
            "Epoch 74/80\n",
            "23/23 [==============================] - 0s 13ms/step - loss: 0.0012\n",
            "Epoch 75/80\n",
            "23/23 [==============================] - 0s 13ms/step - loss: 0.0012\n",
            "Epoch 76/80\n",
            "23/23 [==============================] - 0s 13ms/step - loss: 0.0011\n",
            "Epoch 77/80\n",
            "23/23 [==============================] - 0s 12ms/step - loss: 0.0011\n",
            "Epoch 78/80\n",
            "23/23 [==============================] - 0s 13ms/step - loss: 0.0011\n",
            "Epoch 79/80\n",
            "23/23 [==============================] - 0s 13ms/step - loss: 0.0010\n",
            "Epoch 80/80\n",
            "23/23 [==============================] - 0s 13ms/step - loss: 9.7387e-04\n"
          ]
        },
        {
          "output_type": "execute_result",
          "data": {
            "text/plain": [
              "<keras.src.callbacks.History at 0x7b53aeb323e0>"
            ]
          },
          "metadata": {},
          "execution_count": 30
        }
      ]
    },
    {
      "cell_type": "code",
      "source": [
        "from statsmodels.tsa.stattools import adfuller\n",
        "# Get GCN predictions and calculate residuals\n",
        "gcn_predictions = gcn_model.predict([X_test_1, X_test_2], verbose=1)\n",
        "gcn_predictions = gcn_predictions.reshape(-1, 276)\n",
        "gcn_predictions = gcn_predictions * a\n",
        "\n",
        "residuals = Y_test_original - gcn_predictions\n",
        "rmse = np.sqrt(mean_squared_error(Y_test_original, gcn_predictions))\n",
        "print(\"Model RMSE:\", rmse)\n",
        "# Perform ADF test on residuals\n",
        "def adf_test(residuals):\n",
        "    result = adfuller(residuals.flatten())\n",
        "    print('ADF Statistic: %f' % result[0])\n",
        "    print('p-value: %f' % result[1])\n",
        "    print('Critical Values:')\n",
        "    for key, value in result[4].items():\n",
        "        print('\\t%s: %.3f' % (key, value))\n",
        "\n",
        "    if result[1] <= 0.05:\n",
        "        print(\"Reject Null Hypothesis (H0): Time series is stationary\")\n",
        "    else:\n",
        "        print(\"Fail to Reject Null Hypothesis (H0): Time series is non-stationary\")\n",
        "\n",
        "# Perform ADF test on residuals\n",
        "print(\"Performing ADF test on residuals:\")\n",
        "adf_test(residuals)\n",
        "import statsmodels.api as sm\n",
        "import matplotlib.pyplot as plt\n",
        "\n",
        "# Compute ACF and PACF\n",
        "acf = sm.graphics.tsa.plot_acf(residuals.flatten(), lags=40, alpha=0.05)\n",
        "pacf = sm.graphics.tsa.plot_pacf(residuals.flatten(), lags=40, alpha=0.05)\n",
        "\n",
        "# Display plots\n",
        "plt.show()\n"
      ],
      "metadata": {
        "colab": {
          "base_uri": "https://localhost:8080/",
          "height": 1000
        },
        "id": "juwh-mhguvYo",
        "outputId": "6554375a-07ca-488b-a882-9a46b921f422"
      },
      "execution_count": null,
      "outputs": [
        {
          "output_type": "stream",
          "name": "stdout",
          "text": [
            "6/6 [==============================] - 0s 3ms/step\n",
            "Model RMSE: 41.31818533145693\n",
            "Performing ADF test on residuals:\n",
            "ADF Statistic: -19.400581\n",
            "p-value: 0.000000\n",
            "Critical Values:\n",
            "\t1%: -3.430\n",
            "\t5%: -2.862\n",
            "\t10%: -2.567\n",
            "Reject Null Hypothesis (H0): Time series is stationary\n"
          ]
        },
        {
          "output_type": "display_data",
          "data": {
            "text/plain": [
              "<Figure size 640x480 with 1 Axes>"
            ],
            "image/png": "[encoded data removed]"
          },
          "metadata": {}
        },
        {
          "output_type": "display_data",
          "data": {
            "text/plain": [
              "<Figure size 640x480 with 1 Axes>"
            ],
            "image/png": "[encoded data removed]"
          },
          "metadata": {}
        }
      ]
    },
    {
      "cell_type": "code",
      "source": [
        "# Train ARIMA model on residuals\n",
        "def train_arima(residuals):\n",
        "    arima_model = sm.tsa.ARIMA(residuals.flatten(), order=(1, 0, 1))  # Adjust the order as needed\n",
        "    arima_result = arima_model.fit()\n",
        "    return arima_result\n",
        "\n",
        "arima_result = train_arima(residuals)"
      ],
      "metadata": {
        "id": "eqwUduWFu4PM"
      },
      "execution_count": null,
      "outputs": []
    },
    {
      "cell_type": "code",
      "source": [
        "# Make ARIMA predictions\n",
        "arima_predictions = arima_result.predict(start=0, end=len(residuals.flatten())-1)\n",
        "arima_predictions = arima_predictions.reshape(residuals.shape)\n",
        "\n",
        "# Combine GCN and ARIMA predictions\n",
        "final_predictions = gcn_predictions + arima_predictions\n",
        "\n",
        "evaluate_performance(Y_test_original,final_predictions)"
      ],
      "metadata": {
        "colab": {
          "base_uri": "https://localhost:8080/"
        },
        "id": "2bT0hKcZxKfu",
        "outputId": "ed72983b-824d-4e98-899d-57c98a4c3dea"
      },
      "execution_count": null,
      "outputs": [
        {
          "output_type": "stream",
          "name": "stdout",
          "text": [
            "RMSE is: 40.08848749801823\n",
            "R2 is：0.9538909766434375\n",
            "MAE is：23.814417495445014\n",
            "WMAPE is0.08771043017466848\n"
          ]
        },
        {
          "output_type": "execute_result",
          "data": {
            "text/plain": [
              "(40.08848749801823,\n",
              " 0.9538909766434375,\n",
              " 23.814417495445014,\n",
              " 0.08771043017466848)"
            ]
          },
          "metadata": {},
          "execution_count": 33
        }
      ]
    },
    {
      "cell_type": "code",
      "source": [
        "# Plot RMSE over epochs for GCN training\n",
        "rmse_gcn = np.sqrt(mean_squared_error(Y_test_original, gcn_predictions))\n",
        "\n",
        "\n",
        "# Plot the final combined predictions\n",
        "plt.plot(Y_test_original.flatten(), label='Actual')\n",
        "plt.plot(final_predictions.flatten(), label='Predicted')\n",
        "plt.xlabel('Time')\n",
        "plt.ylabel('Value')\n",
        "plt.title('Actual vs Predicted')\n",
        "plt.legend()\n",
        "plt.show()\n"
      ],
      "metadata": {
        "colab": {
          "base_uri": "https://localhost:8080/",
          "height": 472
        },
        "id": "iwZqlO2cxKiu",
        "outputId": "e2a62753-4422-4a97-fa17-9fd92d1aa50c"
      },
      "execution_count": null,
      "outputs": [
        {
          "output_type": "display_data",
          "data": {
            "text/plain": [
              "<Figure size 640x480 with 1 Axes>"
            ],
            "image/png": "[encoded data removed]"
          },
          "metadata": {}
        }
      ]
    },
    {
      "cell_type": "markdown",
      "source": [
        "**30 MINTS**"
      ],
      "metadata": {
        "id": "3xBaSxmL0fWF"
      }
    },
    {
      "cell_type": "code",
      "source": [
        "import numpy as np\n",
        "import csv\n",
        "import matplotlib.pyplot as plt\n",
        "from load_data import Get_All_Data\n",
        "from gcnLayer import GraphConvolution1\n",
        "from metrics import evaluate_performance\n",
        "from keras.layers import Input, Reshape, Conv3D, Dense, Flatten\n",
        "from keras.models import Model\n",
        "from keras.optimizers import Adam\n",
        "from keras.regularizers import l2\n",
        "import time\n",
        "import keras\n",
        "import statsmodels.api as sm\n",
        "from sklearn.metrics import mean_squared_error\n",
        "\n",
        "# Function to load data and adjacency matrix\n",
        "def load_data():\n",
        "    X_train_1, Y_train, X_test_1, Y_test, Y_test_original, a, b, X_train_2, X_test_2, X_train_3, X_test_3, X_train_4, X_test_4 = \\\n",
        "        Get_All_Data(TG=30, time_lag=11, TG_in_one_day=36, forecast_day_number=5, TG_in_one_week=180)\n",
        "\n",
        "    adjacency = []\n",
        "    with open('adjacency.csv') as f:\n",
        "        data = csv.reader(f, delimiter=\",\")\n",
        "        for line in data:\n",
        "            line = [float(x) for x in line]\n",
        "            adjacency.append(line)\n",
        "    adjacency = np.array(adjacency, dtype=np.float32)\n",
        "\n",
        "    return X_train_1, Y_train, X_test_1, Y_test, Y_test_original, a, b, X_train_2, X_test_2, adjacency\n",
        "\n",
        "# Load the data\n",
        "X_train_1, Y_train, X_test_1, Y_test, Y_test_original, a, b, X_train_2, X_test_2, adjacency = load_data()\n"
      ],
      "metadata": {
        "colab": {
          "base_uri": "https://localhost:8080/"
        },
        "id": "PzLvCkuzxKl2",
        "outputId": "ea7d16b6-5237-4f9b-8524-d264dc28ca95"
      },
      "execution_count": null,
      "outputs": [
        {
          "output_type": "stream",
          "name": "stdout",
          "text": [
            "(530, 276, 30) (530, 276)\n",
            "(170, 276, 30) (170, 276)\n",
            "(170, 276)\n",
            "8940 0\n",
            "(530, 276, 30)\n",
            "(170, 276, 30)\n",
            "(276, 276)\n",
            "(530, 276, 10)\n",
            "(170, 276, 10)\n",
            "(530, 11, 10)\n",
            "(170, 11, 10)\n"
          ]
        }
      ]
    },
    {
      "cell_type": "code",
      "source": [
        "# Define GCN model\n",
        "def create_gcn_model(adjacency):\n",
        "    input1 = Input(shape=(X_train_1.shape[1], X_train_1.shape[2]))\n",
        "    out1 = GraphConvolution1(15, adj=adjacency, activation='relu', kernel_regularizer=l2(5e-4))(input1)\n",
        "    out1 = Reshape((276, 5, 3, 1), input_shape=(276, 15))(out1)\n",
        "\n",
        "    input2 = Input(shape=(X_train_2.shape[1], X_train_2.shape[2]), name='input2')\n",
        "    out2 = GraphConvolution1(15, adj=adjacency, activation='relu', kernel_regularizer=l2(5e-4))(input2)\n",
        "    out2 = Reshape((276, 5, 3, 1), input_shape=(276, 15))(out2)\n",
        "\n",
        "    out = keras.layers.concatenate([out1, out2], axis=4)\n",
        "    out = Conv3D(16, kernel_size=3, padding='same', activation='relu')(out)\n",
        "    out = Flatten()(out)\n",
        "    out = Dense(276)(out)\n",
        "\n",
        "    model = Model(inputs=[input1, input2], outputs=[out])\n",
        "    model.compile(loss='mse', optimizer=Adam(lr=0.001))\n",
        "\n",
        "    return model\n",
        "\n",
        "# Create and train GCN model\n",
        "gcn_model = create_gcn_model(adjacency)\n",
        "gcn_model.fit([X_train_1, X_train_2], Y_train, batch_size=64, epochs=80, verbose=1)\n"
      ],
      "metadata": {
        "colab": {
          "base_uri": "https://localhost:8080/"
        },
        "id": "WQar_jNVxKo1",
        "outputId": "419cfbe0-8674-4e56-c1e4-4d03ad7e8cb4"
      },
      "execution_count": null,
      "outputs": [
        {
          "output_type": "stream",
          "name": "stderr",
          "text": [
            "WARNING:absl:`lr` is deprecated in Keras optimizer, please use `learning_rate` or use the legacy optimizer, e.g.,tf.keras.optimizers.legacy.Adam.\n"
          ]
        },
        {
          "output_type": "stream",
          "name": "stdout",
          "text": [
            "Epoch 1/80\n",
            "9/9 [==============================] - 3s 44ms/step - loss: 0.2264\n",
            "Epoch 2/80\n",
            "9/9 [==============================] - 0s 14ms/step - loss: 0.0735\n",
            "Epoch 3/80\n",
            "9/9 [==============================] - 0s 13ms/step - loss: 0.0337\n",
            "Epoch 4/80\n",
            "9/9 [==============================] - 0s 12ms/step - loss: 0.0230\n",
            "Epoch 5/80\n",
            "9/9 [==============================] - 0s 13ms/step - loss: 0.0211\n",
            "Epoch 6/80\n",
            "9/9 [==============================] - 0s 13ms/step - loss: 0.0195\n",
            "Epoch 7/80\n",
            "9/9 [==============================] - 0s 12ms/step - loss: 0.0184\n",
            "Epoch 8/80\n",
            "9/9 [==============================] - 0s 13ms/step - loss: 0.0177\n",
            "Epoch 9/80\n",
            "9/9 [==============================] - 0s 14ms/step - loss: 0.0171\n",
            "Epoch 10/80\n",
            "9/9 [==============================] - 0s 13ms/step - loss: 0.0166\n",
            "Epoch 11/80\n",
            "9/9 [==============================] - 0s 13ms/step - loss: 0.0161\n",
            "Epoch 12/80\n",
            "9/9 [==============================] - 0s 12ms/step - loss: 0.0156\n",
            "Epoch 13/80\n",
            "9/9 [==============================] - 0s 12ms/step - loss: 0.0152\n",
            "Epoch 14/80\n",
            "9/9 [==============================] - 0s 12ms/step - loss: 0.0148\n",
            "Epoch 15/80\n",
            "9/9 [==============================] - 0s 13ms/step - loss: 0.0145\n",
            "Epoch 16/80\n",
            "9/9 [==============================] - 0s 12ms/step - loss: 0.0142\n",
            "Epoch 17/80\n",
            "9/9 [==============================] - 0s 13ms/step - loss: 0.0139\n",
            "Epoch 18/80\n",
            "9/9 [==============================] - 0s 13ms/step - loss: 0.0136\n",
            "Epoch 19/80\n",
            "9/9 [==============================] - 0s 12ms/step - loss: 0.0133\n",
            "Epoch 20/80\n",
            "9/9 [==============================] - 0s 12ms/step - loss: 0.0130\n",
            "Epoch 21/80\n",
            "9/9 [==============================] - 0s 12ms/step - loss: 0.0128\n",
            "Epoch 22/80\n",
            "9/9 [==============================] - 0s 12ms/step - loss: 0.0126\n",
            "Epoch 23/80\n",
            "9/9 [==============================] - 0s 12ms/step - loss: 0.0124\n",
            "Epoch 24/80\n",
            "9/9 [==============================] - 0s 12ms/step - loss: 0.0121\n",
            "Epoch 25/80\n",
            "9/9 [==============================] - 0s 12ms/step - loss: 0.0119\n",
            "Epoch 26/80\n",
            "9/9 [==============================] - 0s 13ms/step - loss: 0.0118\n",
            "Epoch 27/80\n",
            "9/9 [==============================] - 0s 12ms/step - loss: 0.0116\n",
            "Epoch 28/80\n",
            "9/9 [==============================] - 0s 12ms/step - loss: 0.0114\n",
            "Epoch 29/80\n",
            "9/9 [==============================] - 0s 12ms/step - loss: 0.0112\n",
            "Epoch 30/80\n",
            "9/9 [==============================] - 0s 12ms/step - loss: 0.0111\n",
            "Epoch 31/80\n",
            "9/9 [==============================] - 0s 12ms/step - loss: 0.0109\n",
            "Epoch 32/80\n",
            "9/9 [==============================] - 0s 12ms/step - loss: 0.0108\n",
            "Epoch 33/80\n",
            "9/9 [==============================] - 0s 12ms/step - loss: 0.0106\n",
            "Epoch 34/80\n",
            "9/9 [==============================] - 0s 13ms/step - loss: 0.0105\n",
            "Epoch 35/80\n",
            "9/9 [==============================] - 0s 12ms/step - loss: 0.0103\n",
            "Epoch 36/80\n",
            "9/9 [==============================] - 0s 12ms/step - loss: 0.0102\n",
            "Epoch 37/80\n",
            "9/9 [==============================] - 0s 12ms/step - loss: 0.0101\n",
            "Epoch 38/80\n",
            "9/9 [==============================] - 0s 12ms/step - loss: 0.0099\n",
            "Epoch 39/80\n",
            "9/9 [==============================] - 0s 12ms/step - loss: 0.0098\n",
            "Epoch 40/80\n",
            "9/9 [==============================] - 0s 12ms/step - loss: 0.0097\n",
            "Epoch 41/80\n",
            "9/9 [==============================] - 0s 12ms/step - loss: 0.0096\n",
            "Epoch 42/80\n",
            "9/9 [==============================] - 0s 13ms/step - loss: 0.0095\n",
            "Epoch 43/80\n",
            "9/9 [==============================] - 0s 13ms/step - loss: 0.0094\n",
            "Epoch 44/80\n",
            "9/9 [==============================] - 0s 12ms/step - loss: 0.0092\n",
            "Epoch 45/80\n",
            "9/9 [==============================] - 0s 13ms/step - loss: 0.0091\n",
            "Epoch 46/80\n",
            "9/9 [==============================] - 0s 12ms/step - loss: 0.0090\n",
            "Epoch 47/80\n",
            "9/9 [==============================] - 0s 12ms/step - loss: 0.0089\n",
            "Epoch 48/80\n",
            "9/9 [==============================] - 0s 12ms/step - loss: 0.0088\n",
            "Epoch 49/80\n",
            "9/9 [==============================] - 0s 12ms/step - loss: 0.0087\n",
            "Epoch 50/80\n",
            "9/9 [==============================] - 0s 12ms/step - loss: 0.0087\n",
            "Epoch 51/80\n",
            "9/9 [==============================] - 0s 13ms/step - loss: 0.0086\n",
            "Epoch 52/80\n",
            "9/9 [==============================] - 0s 13ms/step - loss: 0.0085\n",
            "Epoch 53/80\n",
            "9/9 [==============================] - 0s 12ms/step - loss: 0.0084\n",
            "Epoch 54/80\n",
            "9/9 [==============================] - 0s 12ms/step - loss: 0.0083\n",
            "Epoch 55/80\n",
            "9/9 [==============================] - 0s 12ms/step - loss: 0.0082\n",
            "Epoch 56/80\n",
            "9/9 [==============================] - 0s 13ms/step - loss: 0.0081\n",
            "Epoch 57/80\n",
            "9/9 [==============================] - 0s 12ms/step - loss: 0.0080\n",
            "Epoch 58/80\n",
            "9/9 [==============================] - 0s 13ms/step - loss: 0.0080\n",
            "Epoch 59/80\n",
            "9/9 [==============================] - 0s 13ms/step - loss: 0.0079\n",
            "Epoch 60/80\n",
            "9/9 [==============================] - 0s 14ms/step - loss: 0.0078\n",
            "Epoch 61/80\n",
            "9/9 [==============================] - 0s 13ms/step - loss: 0.0077\n",
            "Epoch 62/80\n",
            "9/9 [==============================] - 0s 14ms/step - loss: 0.0076\n",
            "Epoch 63/80\n",
            "9/9 [==============================] - 0s 13ms/step - loss: 0.0076\n",
            "Epoch 64/80\n",
            "9/9 [==============================] - 0s 12ms/step - loss: 0.0075\n",
            "Epoch 65/80\n",
            "9/9 [==============================] - 0s 12ms/step - loss: 0.0074\n",
            "Epoch 66/80\n",
            "9/9 [==============================] - 0s 13ms/step - loss: 0.0073\n",
            "Epoch 67/80\n",
            "9/9 [==============================] - 0s 13ms/step - loss: 0.0073\n",
            "Epoch 68/80\n",
            "9/9 [==============================] - 0s 14ms/step - loss: 0.0072\n",
            "Epoch 69/80\n",
            "9/9 [==============================] - 0s 13ms/step - loss: 0.0071\n",
            "Epoch 70/80\n",
            "9/9 [==============================] - 0s 12ms/step - loss: 0.0070\n",
            "Epoch 71/80\n",
            "9/9 [==============================] - 0s 13ms/step - loss: 0.0070\n",
            "Epoch 72/80\n",
            "9/9 [==============================] - 0s 12ms/step - loss: 0.0069\n",
            "Epoch 73/80\n",
            "9/9 [==============================] - 0s 12ms/step - loss: 0.0068\n",
            "Epoch 74/80\n",
            "9/9 [==============================] - 0s 12ms/step - loss: 0.0068\n",
            "Epoch 75/80\n",
            "9/9 [==============================] - 0s 12ms/step - loss: 0.0067\n",
            "Epoch 76/80\n",
            "9/9 [==============================] - 0s 13ms/step - loss: 0.0066\n",
            "Epoch 77/80\n",
            "9/9 [==============================] - 0s 13ms/step - loss: 0.0066\n",
            "Epoch 78/80\n",
            "9/9 [==============================] - 0s 13ms/step - loss: 0.0065\n",
            "Epoch 79/80\n",
            "9/9 [==============================] - 0s 14ms/step - loss: 0.0064\n",
            "Epoch 80/80\n",
            "9/9 [==============================] - 0s 12ms/step - loss: 0.0064\n"
          ]
        },
        {
          "output_type": "execute_result",
          "data": {
            "text/plain": [
              "<keras.src.callbacks.History at 0x7b53cba111b0>"
            ]
          },
          "metadata": {},
          "execution_count": 36
        }
      ]
    },
    {
      "cell_type": "code",
      "source": [
        "from statsmodels.tsa.stattools import adfuller\n",
        "# Get GCN predictions and calculate residuals\n",
        "gcn_predictions = gcn_model.predict([X_test_1, X_test_2], verbose=1)\n",
        "gcn_predictions = gcn_predictions.reshape(-1, 276)\n",
        "gcn_predictions = gcn_predictions * a\n",
        "\n",
        "residuals = Y_test_original - gcn_predictions\n",
        "rmse = np.sqrt(mean_squared_error(Y_test_original, gcn_predictions))\n",
        "print(\"Model RMSE:\", rmse)\n",
        "# Perform ADF test on residuals\n",
        "def adf_test(residuals):\n",
        "    result = adfuller(residuals.flatten())\n",
        "    print('ADF Statistic: %f' % result[0])\n",
        "    print('p-value: %f' % result[1])\n",
        "    print('Critical Values:')\n",
        "    for key, value in result[4].items():\n",
        "        print('\\t%s: %.3f' % (key, value))\n",
        "\n",
        "    if result[1] <= 0.05:\n",
        "        print(\"Reject Null Hypothesis (H0): Time series is stationary\")\n",
        "    else:\n",
        "        print(\"Fail to Reject Null Hypothesis (H0): Time series is non-stationary\")\n",
        "\n",
        "# Perform ADF test on residuals\n",
        "print(\"Performing ADF test on residuals:\")\n",
        "adf_test(residuals)\n",
        "import statsmodels.api as sm\n",
        "import matplotlib.pyplot as plt\n",
        "\n",
        "# Compute ACF and PACF\n",
        "acf = sm.graphics.tsa.plot_acf(residuals.flatten(), lags=40, alpha=0.05)\n",
        "pacf = sm.graphics.tsa.plot_pacf(residuals.flatten(), lags=40, alpha=0.05)\n",
        "\n",
        "# Display plots\n",
        "plt.show()\n"
      ],
      "metadata": {
        "colab": {
          "base_uri": "https://localhost:8080/",
          "height": 1000
        },
        "id": "JKC8PldBxKr2",
        "outputId": "67bd5a59-3ec5-494d-edc3-477cd49c965f"
      },
      "execution_count": null,
      "outputs": [
        {
          "output_type": "stream",
          "name": "stdout",
          "text": [
            "6/6 [==============================] - 0s 4ms/step\n",
            "Model RMSE: 86.97710925659271\n",
            "Performing ADF test on residuals:\n",
            "ADF Statistic: -15.616575\n",
            "p-value: 0.000000\n",
            "Critical Values:\n",
            "\t1%: -3.430\n",
            "\t5%: -2.862\n",
            "\t10%: -2.567\n",
            "Reject Null Hypothesis (H0): Time series is stationary\n"
          ]
        },
        {
          "output_type": "display_data",
          "data": {
            "text/plain": [
              "<Figure size 640x480 with 1 Axes>"
            ],
            "image/png": "[encoded data removed]"
          },
          "metadata": {}
        },
        {
          "output_type": "display_data",
          "data": {
            "text/plain": [
              "<Figure size 640x480 with 1 Axes>"
            ],
            "image/png": "[encoded data removed]"
          },
          "metadata": {}
        }
      ]
    },
    {
      "cell_type": "code",
      "source": [
        "# Train ARIMA model on residuals\n",
        "def train_arima(residuals):\n",
        "    arima_model = sm.tsa.ARIMA(residuals.flatten(), order=(1, 0, 1))  # Adjust the order as needed\n",
        "    arima_result = arima_model.fit()\n",
        "    return arima_result\n",
        "\n",
        "arima_result = train_arima(residuals)"
      ],
      "metadata": {
        "id": "4GChVfR_xKul"
      },
      "execution_count": null,
      "outputs": []
    },
    {
      "cell_type": "code",
      "source": [
        "# Make ARIMA predictions\n",
        "arima_predictions = arima_result.predict(start=0, end=len(residuals.flatten())-1)\n",
        "arima_predictions = arima_predictions.reshape(residuals.shape)\n",
        "\n",
        "# Combine GCN and ARIMA predictions\n",
        "final_predictions = gcn_predictions + arima_predictions\n",
        "\n",
        "evaluate_performance(Y_test_original,final_predictions)"
      ],
      "metadata": {
        "colab": {
          "base_uri": "https://localhost:8080/"
        },
        "id": "m-y3drjGxKxW",
        "outputId": "76de48bb-d9dc-4410-f992-e2d9d744e0d4"
      },
      "execution_count": null,
      "outputs": [
        {
          "output_type": "stream",
          "name": "stdout",
          "text": [
            "RMSE is: 75.88756601691018\n",
            "R2 is：0.9012951913371363\n",
            "MAE is：43.56089464305819\n",
            "WMAPE is0.08432146989022364\n"
          ]
        },
        {
          "output_type": "execute_result",
          "data": {
            "text/plain": [
              "(75.88756601691018, 0.9012951913371363, 43.56089464305819, 0.08432146989022364)"
            ]
          },
          "metadata": {},
          "execution_count": 39
        }
      ]
    },
    {
      "cell_type": "code",
      "source": [
        "# Plot RMSE over epochs for GCN training\n",
        "rmse_gcn = np.sqrt(mean_squared_error(Y_test_original, gcn_predictions))\n",
        "\n",
        "\n",
        "# Plot the final combined predictions\n",
        "plt.plot(Y_test_original.flatten(), label='Actual')\n",
        "plt.plot(final_predictions.flatten(), label='Predicted')\n",
        "plt.xlabel('Time')\n",
        "plt.ylabel('Value')\n",
        "plt.title('Actual vs Predicted')\n",
        "plt.legend()\n",
        "plt.show()\n"
      ],
      "metadata": {
        "colab": {
          "base_uri": "https://localhost:8080/",
          "height": 472
        },
        "id": "7UtgUvjDzorY",
        "outputId": "88d3d34c-4865-40a6-8bf5-d4652d6c089d"
      },
      "execution_count": null,
      "outputs": [
        {
          "output_type": "display_data",
          "data": {
            "text/plain": [
              "<Figure size 640x480 with 1 Axes>"
            ],
            "image/png": "[encoded data removed]"
          },
          "metadata": {}
        }
      ]
    }
  ]
}